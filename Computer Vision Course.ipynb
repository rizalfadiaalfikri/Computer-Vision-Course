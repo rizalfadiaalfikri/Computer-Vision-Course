{
 "cells": [
  {
   "cell_type": "markdown",
   "metadata": {},
   "source": [
    "# Computer Vision\n",
    "\n",
    "Computer vision adalah ilmu yang dapat memungkinkan sebuah computer bisa melihat benda atau objek yang berada di sekitarnya. Dengan kemampuan melihat objek tersebut, komputer mampu menganalisis sendiri benda atau gambar yang berada di depannya sehingga informasi tersebut dapat menghasilkan suatu perintah tertentu"
   ]
  },
  {
   "cell_type": "markdown",
   "metadata": {},
   "source": [
    "### 1. Display an Image"
   ]
  },
  {
   "cell_type": "code",
   "execution_count": 1,
   "metadata": {},
   "outputs": [],
   "source": [
    "import cv2\n",
    "\n",
    "img = cv2.imread(\"Dataset/lena.jpg\") # Read Image\n",
    "\n",
    "cv2.imshow(\"Lena\", img) # Display image with OpenCV GUI\n",
    "\n",
    "cv2.waitKey(0)\n",
    "cv2.destroyAllWindows()"
   ]
  },
  {
   "cell_type": "markdown",
   "metadata": {},
   "source": [
    "### 2. Saving an Image"
   ]
  },
  {
   "cell_type": "code",
   "execution_count": 2,
   "metadata": {},
   "outputs": [
    {
     "data": {
      "text/plain": [
       "True"
      ]
     },
     "execution_count": 2,
     "metadata": {},
     "output_type": "execute_result"
    }
   ],
   "source": [
    "img = cv2.imread(\"Dataset/lena.jpg\") # Read Image\n",
    "cv2.imwrite(\"len_save.jpg\", img)"
   ]
  },
  {
   "cell_type": "markdown",
   "metadata": {},
   "source": [
    "### 3. Accessing Image Properties"
   ]
  },
  {
   "cell_type": "code",
   "execution_count": 3,
   "metadata": {},
   "outputs": [
    {
     "data": {
      "text/plain": [
       "(344, 354, 3)"
      ]
     },
     "execution_count": 3,
     "metadata": {},
     "output_type": "execute_result"
    }
   ],
   "source": [
    "# img.shape akan menghasilkan (h,w,c)\n",
    "# h -> height\n",
    "# w -> weight\n",
    "# c -> channel\n",
    "\n",
    "img.shape"
   ]
  },
  {
   "cell_type": "markdown",
   "metadata": {},
   "source": [
    "### 4. Changing Color Space"
   ]
  },
  {
   "cell_type": "code",
   "execution_count": 10,
   "metadata": {},
   "outputs": [],
   "source": [
    "# RGB -> Gray\n",
    "img_gray = cv2.cvtColor(img, cv2.COLOR_BGR2GRAY)\n",
    "\n",
    "# Display image with OpenCV GUI\n",
    "cv2.imshow(\"Gray\", img_gray) # display Gray image\n",
    "cv2.imshow(\"RGB\", img) # display RGB image\n",
    "\n",
    "cv2.waitKey(0)\n",
    "cv2.destroyAllWindows()"
   ]
  },
  {
   "cell_type": "markdown",
   "metadata": {},
   "source": [
    "### 5. Resizing the Image"
   ]
  },
  {
   "cell_type": "code",
   "execution_count": 13,
   "metadata": {},
   "outputs": [
    {
     "name": "stdout",
     "output_type": "stream",
     "text": [
      "(100, 100, 3)\n"
     ]
    }
   ],
   "source": [
    "resizing_img = cv2.resize(img, (100, 100))\n",
    "print(resizing_img.shape)\n",
    "\n",
    "cv2.imshow(\"Resizing\", resizing_img) # Display image with OpenCV GUI\n",
    "\n",
    "cv2.waitKey(0)\n",
    "cv2.destroyAllWindows()"
   ]
  },
  {
   "cell_type": "markdown",
   "metadata": {},
   "source": [
    "### 6. Display Text"
   ]
  },
  {
   "cell_type": "code",
   "execution_count": 20,
   "metadata": {},
   "outputs": [],
   "source": [
    "draw_img = cv2.putText(img,\"Lena\",(100,100),cv2.FONT_HERSHEY_SIMPLEX, 1, (255,255,0), 2)\n",
    "cv2.imshow(\"Lena\",draw_img)\n",
    "\n",
    "cv2.waitKey(0)\n",
    "cv2.destroyAllWindows()"
   ]
  },
  {
   "cell_type": "markdown",
   "metadata": {},
   "source": [
    "### 7. Drawing a Line"
   ]
  },
  {
   "cell_type": "code",
   "execution_count": 21,
   "metadata": {},
   "outputs": [],
   "source": [
    "cv2.line(img, (100,100), (300,300), (255,0,0), 5)\n",
    "\n",
    "cv2.imshow(\"Lena\", img)\n",
    "cv2.waitKey(0)\n",
    "cv2.destroyAllWindows()"
   ]
  },
  {
   "cell_type": "markdown",
   "metadata": {},
   "source": [
    "### 8. Drawing a Circle"
   ]
  },
  {
   "cell_type": "code",
   "execution_count": 23,
   "metadata": {},
   "outputs": [],
   "source": [
    "cv2.circle(img, (100, 200), 70, (255,0,255), 3)\n",
    "\n",
    "cv2.imshow(\"Lena\", img)\n",
    "cv2.waitKey(0)\n",
    "cv2.destroyAllWindows()"
   ]
  },
  {
   "cell_type": "markdown",
   "metadata": {},
   "source": [
    "### 9. Drawing an Rectangle"
   ]
  },
  {
   "cell_type": "code",
   "execution_count": 25,
   "metadata": {},
   "outputs": [],
   "source": [
    "cv2.rectangle(img, (100, 250), (200, 400), (0, 0, 255), 3)\n",
    "\n",
    "cv2.imshow(\"Lena\", img)\n",
    "cv2.waitKey(0)\n",
    "cv2.destroyAllWindows()"
   ]
  },
  {
   "cell_type": "markdown",
   "metadata": {},
   "source": [
    "### 10. Display Images in Multiple Modes"
   ]
  },
  {
   "cell_type": "code",
   "execution_count": 29,
   "metadata": {},
   "outputs": [],
   "source": [
    "img = cv2.imread(\"Dataset/lena.jpg\", -1)\n",
    "\n",
    "cv2.imshow(\"Lena\", img)\n",
    "\n",
    "cv2.waitKey(0)\n",
    "cv2.destroyAllWindows()"
   ]
  },
  {
   "cell_type": "markdown",
   "metadata": {},
   "source": [
    "# 11. Playing Webcam Video"
   ]
  },
  {
   "cell_type": "code",
   "execution_count": 24,
   "metadata": {},
   "outputs": [
    {
     "ename": "error",
     "evalue": "OpenCV(4.6.0) D:\\a\\opencv-python\\opencv-python\\opencv\\modules\\highgui\\src\\window.cpp:967: error: (-215:Assertion failed) size.width>0 && size.height>0 in function 'cv::imshow'\n",
     "output_type": "error",
     "traceback": [
      "\u001b[1;31m---------------------------------------------------------------------------\u001b[0m",
      "\u001b[1;31merror\u001b[0m                                     Traceback (most recent call last)",
      "Input \u001b[1;32mIn [24]\u001b[0m, in \u001b[0;36m<cell line: 3>\u001b[1;34m()\u001b[0m\n\u001b[0;32m      3\u001b[0m \u001b[38;5;28;01mwhile\u001b[39;00m cap\u001b[38;5;241m.\u001b[39misOpened():\n\u001b[0;32m      5\u001b[0m     ret, frame \u001b[38;5;241m=\u001b[39m cap\u001b[38;5;241m.\u001b[39mread()\n\u001b[1;32m----> 7\u001b[0m     \u001b[43mcv2\u001b[49m\u001b[38;5;241;43m.\u001b[39;49m\u001b[43mimshow\u001b[49m\u001b[43m(\u001b[49m\u001b[38;5;124;43m\"\u001b[39;49m\u001b[38;5;124;43mFrame\u001b[39;49m\u001b[38;5;124;43m\"\u001b[39;49m\u001b[43m,\u001b[49m\u001b[43m \u001b[49m\u001b[43mframe\u001b[49m\u001b[43m)\u001b[49m\n\u001b[0;32m      9\u001b[0m     \u001b[38;5;28;01mif\u001b[39;00m cv2\u001b[38;5;241m.\u001b[39mwaitKey(\u001b[38;5;241m25\u001b[39m) \u001b[38;5;241m==\u001b[39m \u001b[38;5;28mord\u001b[39m(\u001b[38;5;124m'\u001b[39m\u001b[38;5;124mq\u001b[39m\u001b[38;5;124m'\u001b[39m):\n\u001b[0;32m     10\u001b[0m         \u001b[38;5;28;01mbreak\u001b[39;00m\n",
      "\u001b[1;31merror\u001b[0m: OpenCV(4.6.0) D:\\a\\opencv-python\\opencv-python\\opencv\\modules\\highgui\\src\\window.cpp:967: error: (-215:Assertion failed) size.width>0 && size.height>0 in function 'cv::imshow'\n"
     ]
    }
   ],
   "source": [
    "cap = cv2.VideoCapture(0)\n",
    "\n",
    "while cap.isOpened():\n",
    "    \n",
    "    ret, frame = cap.read()\n",
    "    \n",
    "    cv2.imshow(\"Frame\", frame)\n",
    "    \n",
    "    if cv2.waitKey(25) == ord('q'):\n",
    "        break\n",
    "\n",
    "cap.release()        \n",
    "cv2.destroyAllWindows()        "
   ]
  },
  {
   "cell_type": "markdown",
   "metadata": {},
   "source": [
    "### 12. Capture Videos using OpenCV"
   ]
  },
  {
   "cell_type": "code",
   "execution_count": 40,
   "metadata": {},
   "outputs": [
    {
     "name": "stdout",
     "output_type": "stream",
     "text": [
      "The video was saved successfully\n"
     ]
    }
   ],
   "source": [
    "cap = cv2.VideoCapture(0)\n",
    "\n",
    "if (cap.isOpened() == False):\n",
    "    print(\"Camera could not open\")\n",
    "    \n",
    "frame_width = int(cap.get(3))\n",
    "frame_height = int(cap.get(4))\n",
    "\n",
    "video_code = cv2.VideoWriter_fourcc(*'XVID')\n",
    "video_output = cv2.VideoWriter('Capture_video.MP4', video_code, 30, (frame_width, frame_height))\n",
    "\n",
    "while cap.isOpened:\n",
    "    \n",
    "    ret, frame = cap.read()\n",
    "    \n",
    "    if ret:\n",
    "        \n",
    "        video_output.write(frame)\n",
    "        cv2.imshow(\"Frame\", frame)\n",
    "\n",
    "        if cv2.waitKey(25) == ord('q'):\n",
    "            break\n",
    "    else:\n",
    "        break\n",
    "\n",
    "cap.release()        \n",
    "video_output.release()\n",
    "cv2.destroyAllWindows()\n",
    "print(\"The video was saved successfully\")"
   ]
  },
  {
   "cell_type": "markdown",
   "metadata": {},
   "source": [
    "### 13. Playing Video From File"
   ]
  },
  {
   "cell_type": "code",
   "execution_count": null,
   "metadata": {},
   "outputs": [],
   "source": [
    "cap = cv2.VideoCapture(\"Dataset/video.mp4\")\n",
    "\n",
    "while cap.isOpened:\n",
    "    \n",
    "    ret, frame = cap.read()\n",
    "    \n",
    "    cv2.imshow(\"Frame\", frame)\n",
    "    \n",
    "    if cv2.waitKey(25) == ord('q'):\n",
    "        break\n",
    "\n",
    "cap.release()        \n",
    "cv2.destroyAllWindows()       "
   ]
  },
  {
   "cell_type": "markdown",
   "metadata": {},
   "source": [
    "### 14. Basic Operations on Images Using OpenCV"
   ]
  },
  {
   "cell_type": "markdown",
   "metadata": {},
   "source": [
    "### 15. Access Pixel Values and Modify Them"
   ]
  },
  {
   "cell_type": "code",
   "execution_count": 2,
   "metadata": {},
   "outputs": [
    {
     "name": "stdout",
     "output_type": "stream",
     "text": [
      "[ 97  49 115]\n",
      "97\n",
      "[255 255 255]\n"
     ]
    }
   ],
   "source": [
    "import numpy as np\n",
    "import cv2\n",
    "\n",
    "img = cv2.imread(\"Dataset/lena.jpg\")\n",
    "px = img[100,100]\n",
    "print(px)\n",
    "\n",
    "blue = img[100, 100, 0]\n",
    "print(blue)\n",
    "\n",
    "img[100,100] = [255,255,255]\n",
    "print(img[100,100])"
   ]
  },
  {
   "cell_type": "markdown",
   "metadata": {},
   "source": [
    "### 16. Access Image Properties"
   ]
  },
  {
   "cell_type": "code",
   "execution_count": 3,
   "metadata": {},
   "outputs": [
    {
     "name": "stdout",
     "output_type": "stream",
     "text": [
      "(344, 354, 3)\n",
      "uint8\n",
      "365328\n"
     ]
    }
   ],
   "source": [
    "print(img.shape) # Ukuran dimensi image\n",
    "print(img.dtype) # melihat type image\n",
    "print(img.size) # Ukuran image "
   ]
  },
  {
   "cell_type": "markdown",
   "metadata": {},
   "source": [
    "### 17. Setting Region of Image"
   ]
  },
  {
   "cell_type": "code",
   "execution_count": 4,
   "metadata": {},
   "outputs": [
    {
     "name": "stdout",
     "output_type": "stream",
     "text": [
      "(9, 19, 122, 212)\n"
     ]
    }
   ],
   "source": [
    "roi = cv2.selectROI(img)\n",
    "print(roi)\n",
    "\n",
    "# Cropping selected ROI from img\n",
    "\n",
    "crop_img = img[int(roi[1]):int(roi[1]+roi[3]), int(roi[0]):int(roi[0]+roi[2])]\n",
    "\n",
    "cv2.imshow(\"Cropped img\", crop_img)\n",
    "cv2.imwrite(\"Cropped.jpg\", crop_img)\n",
    "\n",
    "cv2.waitKey(0)\n",
    "cv2.destroyAllWindows()"
   ]
  },
  {
   "cell_type": "markdown",
   "metadata": {},
   "source": [
    "### 18. Splitting and Merging Images"
   ]
  },
  {
   "cell_type": "code",
   "execution_count": 5,
   "metadata": {},
   "outputs": [],
   "source": [
    "img = cv2.imread(\"Dataset/lena.jpg\")\n",
    "\n",
    "g,b,r = cv2.split(img)\n",
    "\n",
    "cv2.imshow(\"Green part of the image\", g)\n",
    "cv2.imshow(\"Blue part of the image\", b)\n",
    "cv2.imshow(\"Red part of the image\", r)\n",
    "\n",
    "img1= cv2.merge((g,b,r))\n",
    "cv2.imshow(\"Image after merger of three color\", img1)\n",
    "\n",
    "cv2.waitKey(0)\n",
    "cv2.destroyAllWindows()"
   ]
  },
  {
   "cell_type": "markdown",
   "metadata": {},
   "source": [
    "### 19. Change the Image Color"
   ]
  },
  {
   "cell_type": "code",
   "execution_count": 6,
   "metadata": {},
   "outputs": [],
   "source": [
    "img = cv2.imread(\"Dataset/lena.jpg\")\n",
    "color_change = cv2.cvtColor(img, cv2.COLOR_RGB2LAB)\n",
    "\n",
    "cv2.imshow(\"Changed color scheme image\", color_change)\n",
    "\n",
    "cv2.waitKey(0)\n",
    "cv2.destroyAllWindows()"
   ]
  },
  {
   "cell_type": "markdown",
   "metadata": {},
   "source": [
    "### 20. Blend Two Different Images"
   ]
  },
  {
   "cell_type": "code",
   "execution_count": 7,
   "metadata": {},
   "outputs": [],
   "source": [
    "img1 = cv2.imread(\"Dataset/lena.jpg\")\n",
    "img2 = cv2.imread(\"Dataset/apple.jpg\")\n",
    "\n",
    "blend_img = cv2.addWeighted(img,0.5,img2,0.5,0.1)\n",
    "\n",
    "cv2.imshow(\"Blend two image\", blend_img)\n",
    "\n",
    "cv2.waitKey(0)\n",
    "cv2.destroyAllWindows()"
   ]
  },
  {
   "cell_type": "markdown",
   "metadata": {},
   "source": [
    "### 21. Apply Different Filters on Image"
   ]
  },
  {
   "cell_type": "code",
   "execution_count": 8,
   "metadata": {},
   "outputs": [],
   "source": [
    "img = cv2.imread(\"Dataset/lena.jpg\")\n",
    "k_sharped = np.array([[-1,-1,-1],\n",
    "                      [-1,9,-1],\n",
    "                      [-1,-1,-1]\n",
    "                     ])\n",
    "\n",
    "sharpened = cv2.filter2D(img, -1, k_sharped)\n",
    "\n",
    "cv2.imshow(\"Filtered image\", sharpened)\n",
    "\n",
    "cv2.waitKey(0)\n",
    "cv2.destroyAllWindows()"
   ]
  },
  {
   "cell_type": "markdown",
   "metadata": {},
   "source": [
    "### 22. Image Thresholding"
   ]
  },
  {
   "cell_type": "code",
   "execution_count": 9,
   "metadata": {},
   "outputs": [],
   "source": [
    "img = cv2.imread(\"Dataset/lena.jpg\")\n",
    "img_gray = cv2.cvtColor(img, cv2.COLOR_BGR2GRAY)\n",
    "ret, thresh = cv2.threshold(img_gray, 127, 255, cv2.THRESH_BINARY)\n",
    "canny_image = cv2.Canny(img_gray, 50, 100)\n",
    "\n",
    "cv2.imshow(\"Threshold image\", thresh)\n",
    "cv2.imshow(\"Canny image\", canny_image)\n",
    "\n",
    "cv2.waitKey(0)\n",
    "cv2.destroyAllWindows()"
   ]
  },
  {
   "cell_type": "markdown",
   "metadata": {},
   "source": [
    "### 23. Contour Detection and Shape Detection"
   ]
  },
  {
   "cell_type": "code",
   "execution_count": 13,
   "metadata": {},
   "outputs": [],
   "source": [
    "import matplotlib.pyplot as plt\n",
    "\n",
    "img = cv2.imread(\"Dataset/blocks.jpg\")\n",
    "gray = cv2.cvtColor(img, cv2.COLOR_BGR2GRAY)\n",
    "\n",
    "# Setting Threshold of the gray scale image\n",
    "_, threshold = cv2.threshold(gray, 127, 255, cv2.THRESH_BINARY)\n",
    "\n",
    "# Contours using findcontours function\n",
    "contours, _ = cv2.findContours(threshold, cv2.RETR_TREE, cv2.CHAIN_APPROX_SIMPLE)\n",
    "\n",
    "i = 0\n",
    "\n",
    "for contour in contours:\n",
    "    if i == 0:\n",
    "        i = 1\n",
    "        continue\n",
    "    \n",
    "    appox = cv2.approxPolyDP(contour, 0.01+cv2.arcLength(contour, True), True)\n",
    "    cv2.drawContours(img, [contour], 0, (255, 0, 255), 5)\n",
    "    \n",
    "    # Finding the center of different shapes\n",
    "    M = cv2.moments(contour)\n",
    "    if M['m00'] != 0.0:\n",
    "        x = int(M['m10']/M['m00'])\n",
    "        y = int(M['m01']/M['m00'])\n",
    "    \n",
    "    # i want to put names of the shapes inside the corresponding\n",
    "    \n",
    "    if len(appox) == 4:\n",
    "        cv2.putText(img, 'Quadrilaterla', (x, y), cv2.FONT_HERSHEY_SIMPLEX, 0.6, (0, 255, 255), 2)\n",
    "        \n",
    "# Display things for you\n",
    "\n",
    "cv2.imshow(\"Shape\", img)\n",
    "\n",
    "cv2.waitKey(0)\n",
    "cv2.destroyAllWindows()"
   ]
  },
  {
   "cell_type": "markdown",
   "metadata": {},
   "source": [
    "### 24. Color Detection"
   ]
  },
  {
   "cell_type": "code",
   "execution_count": 17,
   "metadata": {},
   "outputs": [],
   "source": [
    "img = cv2.imread(\"Dataset/blocks.jpg\")\n",
    "\n",
    "hsv = cv2.cvtColor(img, cv2.COLOR_BGR2HSV)\n",
    "\n",
    "lower_blue = np.array([0, 50, 50])\n",
    "upper_blue = np.array([140, 255, 255])\n",
    "\n",
    "# Threshold the HSV image to get only blue color\n",
    "mask_blue = cv2.inRange(hsv, lower_blue, upper_blue)\n",
    "res = cv2.bitwise_and(img, img, mask=mask_blue)\n",
    "\n",
    "cv2.imshow(\"Res\", res)\n",
    "\n",
    "cv2.waitKey(0)\n",
    "cv2.destroyAllWindows()"
   ]
  },
  {
   "cell_type": "markdown",
   "metadata": {},
   "source": [
    "### 25. Object Replacing in 2D Image using OpenCV"
   ]
  },
  {
   "cell_type": "code",
   "execution_count": 23,
   "metadata": {},
   "outputs": [
    {
     "name": "stdout",
     "output_type": "stream",
     "text": [
      "(100, 300, 3)\n"
     ]
    },
    {
     "name": "stderr",
     "output_type": "stream",
     "text": [
      "C:\\Users\\ASUS\\AppData\\Local\\Temp\\ipykernel_9580\\2930164116.py:8: DeprecationWarning: elementwise comparison failed; this will raise an error in the future.\n",
      "  var = img1[100:(100+mask.shape[0]), 100:(100+mask.shape[1])] == mask\n"
     ]
    }
   ],
   "source": [
    "img = cv2.imread(\"Dataset/lena.jpg\", cv2.IMREAD_COLOR)\n",
    "\n",
    "img1 = img.copy()\n",
    "mask = np.zeros((100,300,3))\n",
    "print(mask.shape)\n",
    "\n",
    "pos = (100,100)\n",
    "var = img1[100:(100+mask.shape[0]), 100:(100+mask.shape[1])] == mask\n",
    "\n",
    "cv2.imshow(\"Coloring\", img1)\n",
    "\n",
    "cv2.waitKey(0)\n",
    "cv2.destroyAllWindows()"
   ]
  },
  {
   "cell_type": "code",
   "execution_count": null,
   "metadata": {},
   "outputs": [],
   "source": []
  }
 ],
 "metadata": {
  "kernelspec": {
   "display_name": "Python [conda env:belajar_cv]",
   "language": "python",
   "name": "conda-env-belajar_cv-py"
  },
  "language_info": {
   "codemirror_mode": {
    "name": "ipython",
    "version": 3
   },
   "file_extension": ".py",
   "mimetype": "text/x-python",
   "name": "python",
   "nbconvert_exporter": "python",
   "pygments_lexer": "ipython3",
   "version": "3.8.0"
  },
  "varInspector": {
   "cols": {
    "lenName": 16,
    "lenType": 16,
    "lenVar": 40
   },
   "kernels_config": {
    "python": {
     "delete_cmd_postfix": "",
     "delete_cmd_prefix": "del ",
     "library": "var_list.py",
     "varRefreshCmd": "print(var_dic_list())"
    },
    "r": {
     "delete_cmd_postfix": ") ",
     "delete_cmd_prefix": "rm(",
     "library": "var_list.r",
     "varRefreshCmd": "cat(var_dic_list()) "
    }
   },
   "types_to_exclude": [
    "module",
    "function",
    "builtin_function_or_method",
    "instance",
    "_Feature"
   ],
   "window_display": false
  }
 },
 "nbformat": 4,
 "nbformat_minor": 4
}
